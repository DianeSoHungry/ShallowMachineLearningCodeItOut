{
 "cells": [
  {
   "cell_type": "markdown",
   "metadata": {},
   "source": [
    "This notebook is inspired but not limited by *Machine Learning In Action*.\n",
    "\n",
    "All rights deserved by Diane(Qingyun Hu)."
   ]
  },
  {
   "cell_type": "markdown",
   "metadata": {},
   "source": [
    "# 1. About kNN\n",
    "\n",
    "## 1.1 Mechanism of kNN\n",
    "kNN is a kind of supervised learning. It has no training process. The main idea is to classify an entry by taking the majority vote of it's closest k examples(labeled traning data).\n",
    "Given a piece of unlabelled data called unknown_x, classify it's class by:\n",
    "1. Calculate it's distance to all existing labeled data.\n",
    "3. Find k examples that unknown_x is closest to from the existing labeled data. (For instance, sort by distance then take the first k examples).\n",
    "3. Take the majority vote of the k examples' class as unknown_x's class.\n",
    "\n",
    "## 1.2 Pros and Cons\n",
    "### 1.21 Pros\n",
    "1. Insensitive to anomalies.\n",
    "2. High accuracy. \n",
    "\n",
    "### 1.22 Pros\n",
    "1. Computationally expensive. To classify one piece of data, it's distance to each known labeled entry has to be calculated.\n",
    "2. Requires large memory. O(N*M) where N stands for the number of labeled datasets, M stands for the number of unlabeled datasets to be classified."
   ]
  },
  {
   "cell_type": "markdown",
   "metadata": {},
   "source": [
    "# 2. Build kNN Classifier Step by Step"
   ]
  },
  {
   "cell_type": "code",
   "execution_count": 1,
   "metadata": {
    "collapsed": true
   },
   "outputs": [],
   "source": [
    "# Creat demo dataset\n",
    "\n",
    "from numpy import *\n",
    "def creatData1():\n",
    "    X = array([[1.0,1.1],[1.0,1.0],[0,0],[0,0.1]])\n",
    "    y = ['A','A','B','B']\n",
    "    return X, y\n",
    "\n",
    "X, y = creatData1()"
   ]
  },
  {
   "cell_type": "code",
   "execution_count": 2,
   "metadata": {},
   "outputs": [
    {
     "data": {
      "text/plain": [
       "[Text(1.01,1.11,'A'),\n",
       " Text(1.01,1.01,'A'),\n",
       " Text(0.01,0.01,'B'),\n",
       " Text(0.01,0.11,'B')]"
      ]
     },
     "execution_count": 2,
     "metadata": {},
     "output_type": "execute_result"
    },
    {
     "data": {
      "image/png": "[encoded data removed]",
      "text/plain": [
       "<matplotlib.figure.Figure at 0x1046269e8>"
      ]
     },
     "metadata": {},
     "output_type": "display_data"
    }
   ],
   "source": [
    "# [Optional] Visualize the demo dataset\n",
    "\n",
    "import matplotlib.pyplot as plt\n",
    "%matplotlib inline\n",
    "plt.scatter(X[:,0],X[:,1],c=list(map(ord, y)))\n",
    "list(map(plt.text,X[:,0]+0.01,X[:,1]+0.01,y))"
   ]
  },
  {
   "cell_type": "code",
   "execution_count": 3,
   "metadata": {
    "collapsed": true
   },
   "outputs": [],
   "source": [
    "# kNN classifier\n",
    "\n",
    "from collections import defaultdict\n",
    "def kNN_classifier(X, y, new_x, k):\n",
    "    # Calculate distances\n",
    "    diffMat = new_x - X\n",
    "    sqDiffMat = diffMat ** 2\n",
    "    distances = (sqDiffMat.sum(1)) ** 0.5\n",
    "    # Classification\n",
    "    kClasses = defaultdict(int)\n",
    "    sortedDistInd = distances.argsort()\n",
    "    for i in sortedDistInd[0:k]:\n",
    "        kClasses[y[i]]\n",
    "    return sorted(kClasses.items(), key=lambda x: x[1], reverse=True)[0][0]"
   ]
  },
  {
   "cell_type": "code",
   "execution_count": 4,
   "metadata": {},
   "outputs": [
    {
     "data": {
      "text/plain": [
       "'A'"
      ]
     },
     "execution_count": 4,
     "metadata": {},
     "output_type": "execute_result"
    }
   ],
   "source": [
    "# test case\n",
    "\n",
    "from IPython.core.interactiveshell import InteractiveShell\n",
    "InteractiveShell.ast_node_interactivity = \"all\"\n",
    "# test case: 1\n",
    "kNN_classifier(X, y, [0,0], 4)\n",
    "# test case: 2\n",
    "kNN_classifier(X, y, [0,0], 5)\n",
    "# test case: 3\n",
    "kNN_classifier(X, y, [1,4], 3)"
   ]
  },
  {
   "cell_type": "markdown",
   "metadata": {},
   "source": [
    "# 2. Real World Test Case - Digits Recognition"
   ]
  },
  {
   "cell_type": "code",
   "execution_count": 5,
   "metadata": {},
   "outputs": [
    {
     "data": {
      "text/plain": [
       "(1797, 64)"
      ]
     },
     "execution_count": 5,
     "metadata": {},
     "output_type": "execute_result"
    },
    {
     "data": {
      "text/plain": [
       "(1797,)"
      ]
     },
     "execution_count": 5,
     "metadata": {},
     "output_type": "execute_result"
    },
    {
     "data": {
      "text/plain": [
       "array([  0.,   0.,   5.,  13.,   9.,   1.,   0.,   0.,   0.,   0.,  13.,\n",
       "        15.,  10.,  15.,   5.,   0.,   0.,   3.,  15.,   2.,   0.,  11.,\n",
       "         8.,   0.,   0.,   4.,  12.,   0.,   0.,   8.,   8.,   0.,   0.,\n",
       "         5.,   8.,   0.,   0.,   9.,   8.,   0.,   0.,   4.,  11.,   0.,\n",
       "         1.,  12.,   7.,   0.,   0.,   2.,  14.,   5.,  10.,  12.,   0.,\n",
       "         0.,   0.,   0.,   6.,  13.,  10.,   0.,   0.,   0.])"
      ]
     },
     "execution_count": 5,
     "metadata": {},
     "output_type": "execute_result"
    },
    {
     "data": {
      "text/plain": [
       "0"
      ]
     },
     "execution_count": 5,
     "metadata": {},
     "output_type": "execute_result"
    }
   ],
   "source": [
    "# Data Exploration\n",
    "\n",
    "from sklearn.datasets import load_digits\n",
    "digits = load_digits()\n",
    "digits.data.shape\n",
    "digits.target.shape\n",
    "digits.data[0]    # Each Feature has the same range in this specific problem. That means normalization is not a must when dataset is large enough. Therefore, let's just skip it.\n",
    "digits.target[0]"
   ]
  },
  {
   "cell_type": "code",
   "execution_count": 6,
   "metadata": {},
   "outputs": [
    {
     "name": "stderr",
     "output_type": "stream",
     "text": [
      "/Users/apple/anaconda3/lib/python3.6/site-packages/sklearn/model_selection/_split.py:2026: FutureWarning: From version 0.21, test_size will always complement train_size unless both are specified.\n",
      "  FutureWarning)\n"
     ]
    }
   ],
   "source": [
    "from sklearn.model_selection import train_test_split\n",
    "X_train, X_test, y_train, y_test = train_test_split(digits.data, digits.target, train_size=0.8)"
   ]
  },
  {
   "cell_type": "code",
   "execution_count": 7,
   "metadata": {},
   "outputs": [
    {
     "name": "stdout",
     "output_type": "stream",
     "text": [
      "ACC without Normalization: 0.986111\n"
     ]
    }
   ],
   "source": [
    "# Performance Meaturement\n",
    "\n",
    "from sklearn.metrics import accuracy_score\n",
    "y_pred = array([kNN_classifier(X=X_train, y=y_train, new_x=i, k=20) for i in X_test])\n",
    "print(\"ACC without Normalization: %f\" % accuracy_score(y_true=y_test, y_pred=y_pred))"
   ]
  },
  {
   "cell_type": "markdown",
   "metadata": {},
   "source": [
    " # 3. Misc."
   ]
  },
  {
   "cell_type": "markdown",
   "metadata": {},
   "source": [
    " ## 3.1 See if Normalization make any difference"
   ]
  },
  {
   "cell_type": "code",
   "execution_count": 8,
   "metadata": {},
   "outputs": [
    {
     "name": "stdout",
     "output_type": "stream",
     "text": [
      "ACC with Normalization: 0.986111\n"
     ]
    }
   ],
   "source": [
    "# See if Normalization make any difference\n",
    "\n",
    "from sklearn.preprocessing import MinMaxScaler\n",
    "y_pred = array([kNN_classifier(X=MinMaxScaler().fit_transform(X_train), y=y_train, new_x=i, k=20) for i in MinMaxScaler().fit_transform(X_test)])\n",
    "print(\"ACC with Normalization: %f\" % accuracy_score(y_true=y_test, y_pred=y_pred))"
   ]
  },
  {
   "cell_type": "markdown",
   "metadata": {},
   "source": [
    "#### Same!!!"
   ]
  },
  {
   "cell_type": "markdown",
   "metadata": {},
   "source": [
    " ## 3.2 Implement with sklearn.neighbors.KNeighborsClassifier"
   ]
  },
  {
   "cell_type": "code",
   "execution_count": 9,
   "metadata": {},
   "outputs": [
    {
     "data": {
      "text/plain": [
       "KNeighborsClassifier(algorithm='auto', leaf_size=30, metric='minkowski',\n",
       "           metric_params=None, n_jobs=1, n_neighbors=20, p=2,\n",
       "           weights='uniform')"
      ]
     },
     "execution_count": 9,
     "metadata": {},
     "output_type": "execute_result"
    },
    {
     "name": "stdout",
     "output_type": "stream",
     "text": [
      "ACC with Normalization with sklearn: 0.958333\n"
     ]
    }
   ],
   "source": [
    "from sklearn.neighbors import KNeighborsClassifier\n",
    "classifier = KNeighborsClassifier(n_neighbors=20)\n",
    "classifier.fit(X_train, y_train)\n",
    "# classifier.predict(X_test)\n",
    "print(\"ACC with Normalization with sklearn: %f\" % classifier.score(X_test,y_test))"
   ]
  }
 ],
 "metadata": {
  "kernelspec": {
   "display_name": "Python 3",
   "language": "python",
   "name": "python3"
  },
  "language_info": {
   "codemirror_mode": {
    "name": "ipython",
    "version": 3
   },
   "file_extension": ".py",
   "mimetype": "text/x-python",
   "name": "python",
   "nbconvert_exporter": "python",
   "pygments_lexer": "ipython3",
   "version": "3.6.3"
  }
 },
 "nbformat": 4,
 "nbformat_minor": 2
}
