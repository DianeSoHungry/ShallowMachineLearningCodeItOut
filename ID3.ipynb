{
 "cells": [
  {
   "cell_type": "markdown",
   "metadata": {},
   "source": [
    "This notebook is inspired but not limited by *Machine Learning In Action*.\n",
    "e.g., the implementation of the algrithm is at a higher level.\n",
    "\n",
    "All rights deserved by Diane(Qingyun Hu)."
   ]
  },
  {
   "cell_type": "markdown",
   "metadata": {},
   "source": [
    "# 1. About ID3\n",
    "\n",
    "## 1.1 Mechanism of ID3\n",
    "ID3 is a type of Decision Tree. Note that ID3 only work with nominal values. \n",
    "\n",
    "To build a ID3 tree is to select one feature, based on which the dataset in this branch is splitted into sub-branches, at a time recursively, until every item in the dataset of this branch is in the same class or there is no feature to split on.\n",
    "\n",
    "### 1.1.1 Based on what, a feature is selected to split dataset at each step? \n",
    "One way used is **Information Gain**. Always choose the feature that gives you the highest information gain.\n",
    "\n",
    "$ information\\ gain = entropy\\ before\\ splitting\\ -\\ entropy\\ after\\ splitting $\n",
    "\n",
    "where entropy after splitting is the sum of entropy of datasets in each sub-branch after splitting.\n",
    "### 1.1.2 What's entropy? \n",
    "**Entropy** is expected value of **information**\n",
    "\n",
    "$Entropy = -\\sum_{i=1}^{n} p(c_i)logp(c_i)$\n",
    "\n",
    "where $n$ is the number of the classes, $c_i$ stands for i_th class, $p(c_i)$ stands for the propobility of class i beening chosen.\n",
    "\n",
    "Actually, **information of class i** is $-logp(c_i)$. In another word, **Entropy** is expected value of **information of all classes** \n",
    "\n",
    "## 1.2 Pros and Cons\n",
    "### 1.21 Pros\n",
    "1. Easy for human to understand the result (e.g., If you need to get a loan from a bank and it get rejected. Isn't it more acceptable if the bank can explain based on what they mad this decision?).\n",
    "2. Computationally cheap.\n",
    "3. Can deal with irrelevant features (I don't understand where does this conclusion come from so far.).\n",
    "\n",
    "### 1.22 Pros\n",
    "1. Prone to overfitting."
   ]
  },
  {
   "cell_type": "markdown",
   "metadata": {},
   "source": [
    "# 2. ID3 Tree Construction"
   ]
  },
  {
   "cell_type": "code",
   "execution_count": 483,
   "metadata": {},
   "outputs": [],
   "source": [
    "# Creat demo dataset\n",
    "\n",
    "import pandas as pd\n",
    "import math\n",
    "def creatData():\n",
    "    data =[[1, 1, 'yes'],\n",
    "           [1, 1, 'yes'],\n",
    "           [1, 0, 'no'],\n",
    "           [0, 1, 'no'],\n",
    "           [0, 1, 'no']]\n",
    "\n",
    "    featureName = ['no surfacing','flippers','label']\n",
    "    \n",
    "    return pd.DataFrame(data, columns=featureName)\n",
    "\n",
    "data = creatData()"
   ]
  },
  {
   "cell_type": "code",
   "execution_count": 484,
   "metadata": {},
   "outputs": [
    {
     "data": {
      "text/plain": [
       "0.97095059445466858"
      ]
     },
     "execution_count": 484,
     "metadata": {},
     "output_type": "execute_result"
    }
   ],
   "source": [
    "# tool function: calculate Entropy\n",
    "\n",
    "import pandas as pd\n",
    "def calEnt(data):\n",
    "    p = data[data.columns[0]].groupby(data.label).count()/data.shape[0]\n",
    "    entropy = 0\n",
    "    for p_i in p:\n",
    "        entropy -= p_i * log2(p_i)\n",
    "    return entropy\n",
    "# test\n",
    "calEnt(data)"
   ]
  },
  {
   "cell_type": "code",
   "execution_count": 485,
   "metadata": {},
   "outputs": [
    {
     "data": {
      "text/plain": [
       "[   no surfacing  flippers label\n",
       " 2             1         0    no,    no surfacing  flippers label\n",
       " 0             1         1   yes\n",
       " 1             1         1   yes\n",
       " 3             0         1    no\n",
       " 4             0         1    no]"
      ]
     },
     "execution_count": 485,
     "metadata": {},
     "output_type": "execute_result"
    }
   ],
   "source": [
    "# tool function: split data by a given feature\n",
    "\n",
    "def splitData(data, feature):\n",
    "    values = set(data.iloc[:,feature])\n",
    "#     return [i for i in values]\n",
    "    return [data[data.iloc[:,feature]==i] for i in values]\n",
    "# test\n",
    "splitData(data, 1)"
   ]
  },
  {
   "cell_type": "code",
   "execution_count": 486,
   "metadata": {},
   "outputs": [
    {
     "data": {
      "text/plain": [
       "0"
      ]
     },
     "execution_count": 486,
     "metadata": {},
     "output_type": "execute_result"
    }
   ],
   "source": [
    "# tool function: finding the feature to split on\n",
    "\n",
    "def findFeat(data):\n",
    "    newEnt = []\n",
    "    for i in range(len(data.columns)-1):\n",
    "        newEnt.append(sum([calEnt(data) for data in splitData(data, i)]))\n",
    "    return np.array(newEnt).argmin()    # the base entropy is the same, so we just neet to find the feature that give us the smallest new entropy\n",
    "findFeat(data)"
   ]
  },
  {
   "cell_type": "code",
   "execution_count": 487,
   "metadata": {},
   "outputs": [
    {
     "data": {
      "text/plain": [
       "{'no surfacing': {'0': 'no', '1': {'flippers': {'0': 'no', '1': 'yes'}}}}"
      ]
     },
     "execution_count": 487,
     "metadata": {},
     "output_type": "execute_result"
    }
   ],
   "source": [
    "# building the tree\n",
    "def treeBuilding(data):\n",
    "    if(data.shape[1]==1):\n",
    "        return str(data.label.max())\n",
    "    elif(calEnt(data)==0):\n",
    "        return str(data.label.max())\n",
    "    else:\n",
    "        thisTree = {}\n",
    "        featFound = findFeat(data)\n",
    "        newDatasets = splitData(data, featFound)\n",
    "        featName = data.columns[featFound]\n",
    "        thisTree[featName] = {}\n",
    "        for i in newDatasets:\n",
    "            thisTree[featName][str(i[featName].max())] = treeBuilding(i.drop(featName,axis=1))\n",
    "    return thisTree\n",
    "treeBuilding(data)"
   ]
  },
  {
   "cell_type": "markdown",
   "metadata": {},
   "source": [
    "# 2. Build Another Tree - Contact Lenses [download here](http://archive.ics.uci.edu/ml/machine-learning-databases/lenses/)"
   ]
  },
  {
   "cell_type": "code",
   "execution_count": 488,
   "metadata": {},
   "outputs": [
    {
     "data": {
      "text/html": [
       "<div>\n",
       "<style>\n",
       "    .dataframe thead tr:only-child th {\n",
       "        text-align: right;\n",
       "    }\n",
       "\n",
       "    .dataframe thead th {\n",
       "        text-align: left;\n",
       "    }\n",
       "\n",
       "    .dataframe tbody tr th {\n",
       "        vertical-align: top;\n",
       "    }\n",
       "</style>\n",
       "<table border=\"1\" class=\"dataframe\">\n",
       "  <thead>\n",
       "    <tr style=\"text-align: right;\">\n",
       "      <th></th>\n",
       "      <th>age</th>\n",
       "      <th>prescript</th>\n",
       "      <th>astigmatic</th>\n",
       "      <th>tearRate</th>\n",
       "      <th>label</th>\n",
       "    </tr>\n",
       "    <tr>\n",
       "      <th>number</th>\n",
       "      <th></th>\n",
       "      <th></th>\n",
       "      <th></th>\n",
       "      <th></th>\n",
       "      <th></th>\n",
       "    </tr>\n",
       "  </thead>\n",
       "  <tbody>\n",
       "    <tr>\n",
       "      <th>1</th>\n",
       "      <td>1</td>\n",
       "      <td>1</td>\n",
       "      <td>1</td>\n",
       "      <td>1</td>\n",
       "      <td>3</td>\n",
       "    </tr>\n",
       "    <tr>\n",
       "      <th>2</th>\n",
       "      <td>1</td>\n",
       "      <td>1</td>\n",
       "      <td>1</td>\n",
       "      <td>2</td>\n",
       "      <td>2</td>\n",
       "    </tr>\n",
       "    <tr>\n",
       "      <th>3</th>\n",
       "      <td>1</td>\n",
       "      <td>1</td>\n",
       "      <td>2</td>\n",
       "      <td>1</td>\n",
       "      <td>3</td>\n",
       "    </tr>\n",
       "    <tr>\n",
       "      <th>4</th>\n",
       "      <td>1</td>\n",
       "      <td>1</td>\n",
       "      <td>2</td>\n",
       "      <td>2</td>\n",
       "      <td>1</td>\n",
       "    </tr>\n",
       "    <tr>\n",
       "      <th>5</th>\n",
       "      <td>1</td>\n",
       "      <td>2</td>\n",
       "      <td>1</td>\n",
       "      <td>1</td>\n",
       "      <td>3</td>\n",
       "    </tr>\n",
       "  </tbody>\n",
       "</table>\n",
       "</div>"
      ],
      "text/plain": [
       "       age prescript astigmatic tearRate label\n",
       "number                                        \n",
       "1        1         1          1        1     3\n",
       "2        1         1          1        2     2\n",
       "3        1         1          2        1     3\n",
       "4        1         1          2        2     1\n",
       "5        1         2          1        1     3"
      ]
     },
     "execution_count": 488,
     "metadata": {},
     "output_type": "execute_result"
    }
   ],
   "source": [
    "# Data Exploration\n",
    "data = []\n",
    "with open('./test_dataset/lenses.data') as f:\n",
    "    for line in f.readlines():\n",
    "        data.append(line.strip().split())\n",
    "data = pd.DataFrame(data, columns=['number','age', 'prescript', 'astigmatic', 'tearRate','label'])\n",
    "data.set_index(keys=\"number\",inplace=True)\n",
    "data.head()"
   ]
  },
  {
   "cell_type": "code",
   "execution_count": 489,
   "metadata": {},
   "outputs": [
    {
     "data": {
      "text/plain": [
       "{'tearRate': {'1': '3',\n",
       "  '2': {'astigmatic': {'1': {'prescript': {'1': {'age': {'1': '2',\n",
       "        '2': '2',\n",
       "        '3': '3'}},\n",
       "      '2': '2'}},\n",
       "    '2': {'prescript': {'1': '1',\n",
       "      '2': {'age': {'1': '1', '2': '3', '3': '3'}}}}}}}}"
      ]
     },
     "execution_count": 489,
     "metadata": {},
     "output_type": "execute_result"
    }
   ],
   "source": [
    "treeBuilding(data)"
   ]
  },
  {
   "cell_type": "markdown",
   "metadata": {},
   "source": [
    " # 3. Misc."
   ]
  },
  {
   "cell_type": "markdown",
   "metadata": {},
   "source": [
    "C4.5 and CART do not “consume” the features at each split. "
   ]
  }
 ],
 "metadata": {
  "kernelspec": {
   "display_name": "Python 3",
   "language": "python",
   "name": "python3"
  },
  "language_info": {
   "codemirror_mode": {
    "name": "ipython",
    "version": 3
   },
   "file_extension": ".py",
   "mimetype": "text/x-python",
   "name": "python",
   "nbconvert_exporter": "python",
   "pygments_lexer": "ipython3",
   "version": "3.6.3"
  }
 },
 "nbformat": 4,
 "nbformat_minor": 2
}
